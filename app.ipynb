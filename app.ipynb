{
 "cells": [
  {
   "cell_type": "code",
   "execution_count": 10,
   "id": "118a0183",
   "metadata": {},
   "outputs": [],
   "source": [
    "import numpy as np\n",
    "import matplotlib.pyplot as plt\n",
    "from ipywidgets import FloatSlider, Checkbox, VBox, interactive_output\n",
    "\n",
    "\n",
    "def m_exact(t, S, k, m0):\n",
    "    if k <= 0:\n",
    "        return m0 + S*t\n",
    "    return m0*np.exp(-k*t) + (S/k)*(1 - np.exp(-k*t))\n",
    "\n",
    "\n",
    "def plot_m(S=1.0, k=0.1, m0=0.0, t_max=100.0, show_half_life=True, show_tau_marker=True):\n",
    "    t = np.linspace(0, t_max, 600)\n",
    "    m = m_exact(t, S, k, m0)\n",
    "    if k > 0:\n",
    "        mstar, tau, t_half = S/k, 1.0/k, np.log(2)/k\n",
    "    else:\n",
    "        mstar, tau, t_half = np.nan, np.inf, np.inf\n",
    "\n",
    "    plt.figure(figsize=(8,5))\n",
    "    plt.plot(t, m, lw=2, label=\"m(t)\")\n",
    "    if k > 0:\n",
    "        plt.axhline(mstar, linestyle=\"--\", lw=1.5, label=f\"m* = {mstar:.3g}\")\n",
    "\n",
    "        if show_tau_marker and tau <= t_max:\n",
    "            m_tau = m_exact(np.array([tau]), S, k, m0)[0]\n",
    "            plt.axvline(tau, linestyle=\":\", lw=1.0)\n",
    "            plt.plot([tau], [m_tau], marker=\"o\")\n",
    "            # fraction of approach to steady state after τ\n",
    "            frac = 1.0 - (m_tau - mstar)/(m0 - mstar) if (m0 - mstar) != 0 else 1.0\n",
    "            plt.text(tau, m_tau, f\"  t=τ, m(τ)={m_tau:.3g}\\n  approach≈{frac:.3f}\", va=\"bottom\")\n",
    "\n",
    "        if show_half_life and t_half <= t_max:\n",
    "            target = mstar + 0.5*(m0 - mstar)  # halves distance to m*\n",
    "            plt.axvline(t_half, linestyle=\":\", lw=1.0)\n",
    "            plt.axhline(target, linestyle=\":\", lw=1.0)\n",
    "            plt.plot([t_half], [target], marker=\"s\")\n",
    "            plt.text(t_half, target, f\"  t½={t_half:.3g}\", va=\"bottom\")\n",
    "\n",
    "    plt.xlabel(\"Time\")\n",
    "    plt.ylabel(\"Mass m(t)\")\n",
    "    plt.title(\"m(t) = m0 e^{-k t} + (S/k)(1 - e^{-k t})\")\n",
    "    plt.grid(True, alpha=0.3)\n",
    "    plt.legend()\n",
    "    plt.show()\n",
    "\n"
   ]
  },
  {
   "cell_type": "code",
   "execution_count": 11,
   "id": "1d8090bb",
   "metadata": {},
   "outputs": [
    {
     "data": {
      "application/vnd.jupyter.widget-view+json": {
       "model_id": "09c1cfc50daa434aa39da485bd4a1f2b",
       "version_major": 2,
       "version_minor": 0
      },
      "text/plain": [
       "VBox(children=(FloatSlider(value=1.0, description='S', max=10.0), FloatSlider(value=0.1, description='k', max=…"
      ]
     },
     "execution_count": 11,
     "metadata": {},
     "output_type": "execute_result"
    }
   ],
   "source": [
    "controls = {\n",
    "    \"S\": FloatSlider(value=1.0,  min=0.0,  max=10.0, step=0.1,  description=\"S\"),\n",
    "    \"k\": FloatSlider(value=0.1,  min=0.01, max=1.0,  step=0.01, description=\"k\"),\n",
    "    \"m0\": FloatSlider(value=0.0, min=0, max=10.0, step=0.1,  description=\"m0\"),\n",
    "    \"t_max\": FloatSlider(value=100.0, min=10.0, max=500.0, step=10.0, description=\"t_max\"),\n",
    "    \"show_half_life\": Checkbox(value=True, description=\"Show t½\"),\n",
    "    \"show_tau_marker\": Checkbox(value=True, description=\"Show τ marker\"),\n",
    "}\n",
    "\n",
    "out = interactive_output(plot_m, controls)\n",
    "VBox(list(controls.values()) + [out])\n"
   ]
  }
 ],
 "metadata": {
  "kernelspec": {
   "display_name": "MyPangeo",
   "language": "python",
   "name": "mypangeo"
  },
  "language_info": {
   "codemirror_mode": {
    "name": "ipython",
    "version": 3
   },
   "file_extension": ".py",
   "mimetype": "text/x-python",
   "name": "python",
   "nbconvert_exporter": "python",
   "pygments_lexer": "ipython3",
   "version": "3.8.15"
  }
 },
 "nbformat": 4,
 "nbformat_minor": 5
}
